{
 "cells": [
  {
   "cell_type": "code",
   "execution_count": 11,
   "id": "2660e22d-fb8c-456c-84e7-ec9d68f633a5",
   "metadata": {},
   "outputs": [
    {
     "data": {
      "text/plain": [
       "list"
      ]
     },
     "execution_count": 11,
     "metadata": {},
     "output_type": "execute_result"
    }
   ],
   "source": [
    "Q1. Is there any difference in the data type of variables list_ and array_list? If there is then write a code\n",
    "to print the data types of both the variables?\n",
    "Ans:\n",
    "    yes,\n",
    "import numpy as np\n",
    "list_ = [ '1' , '2' , '3' , '4' , '5' ]\n",
    "array_list = np.array(object = list_)\n",
    "\n",
    "type(list_)"
   ]
  },
  {
   "cell_type": "code",
   "execution_count": 12,
   "id": "383612b3-c288-4db2-9474-8d2bd4b4337a",
   "metadata": {},
   "outputs": [
    {
     "data": {
      "text/plain": [
       "numpy.ndarray"
      ]
     },
     "execution_count": 12,
     "metadata": {},
     "output_type": "execute_result"
    }
   ],
   "source": [
    "type(array_list)"
   ]
  },
  {
   "cell_type": "code",
   "execution_count": null,
   "id": "ec5fa246-d1ac-4a49-a2e9-d3c9fa5ce0c6",
   "metadata": {},
   "outputs": [],
   "source": [
    "Q2. Write a code to print the data type of each and every element of both the variables list_ and\n",
    "arra_list?\n",
    "\n",
    "import numpy as np\n",
    "\n",
    "list_ = ['1', '2', '3', '4', '5']\n",
    "array_list = np.array(object=list_)\n",
    "\n",
    "# Print data type of each element in list_\n",
    "print(\"Data type of each element in list_:\")\n",
    "for elem in list_:\n",
    "    print(type(elem))\n",
    "\n",
    "# Print data type of each element in array_list\n",
    "print(\"\\nData type of each element in array_list:\")\n",
    "for elem in array_list:\n",
    "    print(elem.dtype)\n"
   ]
  },
  {
   "cell_type": "code",
   "execution_count": null,
   "id": "a3468633-9999-42e7-92d4-3ce70bb7fe18",
   "metadata": {},
   "outputs": [],
   "source": [
    "Q3. Considering the following changes in the variable, array_list:\n",
    "array_list = np.array(object = list_, dtype = int)\n",
    "Will there be any difference in the data type of the elements present in both the variables, list_ and\n",
    "arra_list? If so then print the data types of each and every element present in both the variables, list_\n",
    "and arra_list?\n",
    "Ans:\n",
    "Yes, there will be a difference in the data type of the elements present in list_ and array_list.\n",
    "import numpy as np\n",
    "\n",
    "list_ = ['1', '2', '3', '4', '5']\n",
    "array_list = np.array(object=list_, dtype=int)\n",
    "\n",
    "# Print data type of each element in list_\n",
    "print(\"Data type of each element in list_:\")\n",
    "for elem in list_:\n",
    "    print(type(elem))\n",
    "\n",
    "# Print data type of each element in array_list\n",
    "print(\"\\nData type of each element in array_list:\")\n",
    "for elem in array_list:\n",
    "    print(elem.dtype)\n"
   ]
  },
  {
   "cell_type": "code",
   "execution_count": null,
   "id": "9b149b69-7a44-4603-b7da-9822a8be7cb6",
   "metadata": {},
   "outputs": [],
   "source": [
    "# Q4. Write a code to find the following characteristics of variable, num_array:\n",
    "# (i) shape\n",
    "# (ii) size\n",
    "import numpy as np\n",
    "num_list = [ [ 1 , 2 , 3 ] , [ 4 , 5 , 6 ] ]\n",
    "num_array = np.array(object = num_list)\n",
    "\n",
    "num_list.shape\n",
    "num_list.size"
   ]
  },
  {
   "cell_type": "code",
   "execution_count": null,
   "id": "cfbff0a2-d367-4095-8028-350cda7b86ed",
   "metadata": {},
   "outputs": [],
   "source": [
    "num_array.shape\n",
    "num_array.size"
   ]
  },
  {
   "cell_type": "code",
   "execution_count": null,
   "id": "ae1b5af2-fc0f-4826-bec8-d9a19a2cf6ac",
   "metadata": {},
   "outputs": [],
   "source": [
    "Q5. Write a code to create numpy array of 3*3 matrix containing zeros only, using a numpy array\n",
    "creation function?\n",
    "Ans:\n",
    "import numpy as np\n",
    "\n",
    "zeros_array = np.zeros((3, 3))\n",
    "\n",
    "print(zeros_array)\n"
   ]
  },
  {
   "cell_type": "code",
   "execution_count": null,
   "id": "60114c35-39fd-45fe-8467-a4ef2e7f3cee",
   "metadata": {},
   "outputs": [],
   "source": [
    "Create an identity matrix of shape (5,5) using numpy functions?\n",
    "import numpy as np\n",
    "\n",
    "identity_matrix = np.identity(5)\n",
    "\n",
    "print(identity_matrix)\n"
   ]
  }
 ],
 "metadata": {
  "kernelspec": {
   "display_name": "Python 3 (ipykernel)",
   "language": "python",
   "name": "python3"
  },
  "language_info": {
   "codemirror_mode": {
    "name": "ipython",
    "version": 3
   },
   "file_extension": ".py",
   "mimetype": "text/x-python",
   "name": "python",
   "nbconvert_exporter": "python",
   "pygments_lexer": "ipython3",
   "version": "3.10.8"
  }
 },
 "nbformat": 4,
 "nbformat_minor": 5
}
