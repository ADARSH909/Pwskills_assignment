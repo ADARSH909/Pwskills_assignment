{
 "cells": [
  {
   "cell_type": "code",
   "execution_count": null,
   "id": "85eda9bb-ae29-4def-a458-00f192fcd150",
   "metadata": {},
   "outputs": [],
   "source": [
    "Q1. What is the difference between Ordinal Encoding and Label Encoding? Provide an example of when you might choose one over the other.\n",
    "\n",
    "    Ordinal Encoding: In ordinal encoding, categorical values are assigned numerical labels based on their ordinal relationship, meaning there is a meaningful order or ranking among the categories. For example, assigning 1, 2, 3 to the categories \"low,\" \"medium,\" and \"high.\"\n",
    "\n",
    "    Label Encoding: Label encoding is a more general encoding technique where each category is assigned a unique integer label without implying any specific order. For example, converting \"red,\" \"green,\" and \"blue\" to 1, 2, 3.\n",
    "\n",
    "Example:\n",
    "Consider a dataset with the \"Education Level\" feature:\n",
    "\n",
    "    Ordinal Encoding: High School (1), Bachelor's (2), Master's (3), PhD (4).\n",
    "    Label Encoding: High School (1), Bachelor's (2), Master's (3), PhD (4).\n",
    "\n",
    "When to Choose:\n",
    "\n",
    "    Choose Ordinal Encoding when the categorical values have a clear order or hierarchy, and this order is meaningful for the model.\n",
    "    Choose Label Encoding when there is no inherent order among the categories, or when the order is not relevant to the analysis."
   ]
  },
  {
   "cell_type": "code",
   "execution_count": null,
   "id": "6f7c5566-4897-4ce1-971f-961d2fae00e1",
   "metadata": {},
   "outputs": [],
   "source": [
    "Q2. Explain how Target Guided Ordinal Encoding works and provide an example of when you might use it in a machine learning project.\n",
    "\n",
    "Target Guided Ordinal Encoding:\n",
    "\n",
    "    In Target Guided Ordinal Encoding, the labels are assigned based on the mean of the target variable for each category. This encoding is especially useful when dealing with ordinal categorical features.\n",
    "\n",
    "Example:\n",
    "Consider a dataset with the \"Education Level\" feature and the target variable being \"Salary.\" You want to encode \"Education Level\" based on the mean salary for each education level:\n",
    "\n",
    "    High School: Mean Salary 40,000\n",
    "    Bachelor's: Mean Salary 60,000\n",
    "    Master's: Mean Salary 80,000\n",
    "    PhD: Mean Salary 100,000\n",
    "\n",
    "So, the encoding would be: High School (1), Bachelor's (2), Master's (3), PhD (4).\n",
    "\n",
    "When to Use:\n",
    "\n",
    "    Use Target Guided Ordinal Encoding when the ordinal feature has a clear relationship with the target variable, and you want to capture this relationship in the encoding."
   ]
  },
  {
   "cell_type": "code",
   "execution_count": null,
   "id": "c96137d9-e40b-4c53-a880-49437d150682",
   "metadata": {},
   "outputs": [],
   "source": [
    "Q3. Define covariance and explain why it is important in statistical analysis. How is covariance calculated?\n",
    "\n",
    "Covariance: Covariance measures the degree to which two variables change together. It indicates whether an increase in one variable corresponds to an increase or decrease in another. A positive covariance suggests a positive relationship, while a negative covariance suggests a negative relationship.\n",
    "\n",
    "Importance in Statistical Analysis:\n",
    "\n",
    "    Covariance is crucial for understanding the relationship between two variables. It helps in identifying patterns and dependencies in the data.\n",
    "    It is a key component in calculating correlation, which measures the strength and direction of a linear relationship between two variables.\n",
    "\n",
    "Calculation:\n",
    "Cov(X,Y)=∑(Xi−Xˉ)(Yi−Yˉ)N−1Cov(X,Y)=N−1∑(Xi​−Xˉ)(Yi​−Yˉ)​\n",
    "\n",
    "where XiXi​ and YiYi​ are individual data points, XˉXˉ and YˉYˉ are the means of X and Y, and NN is the number of data points."
   ]
  },
  {
   "cell_type": "code",
   "execution_count": null,
   "id": "199098a7-7c5c-4b46-9bba-9e5c51776be2",
   "metadata": {},
   "outputs": [],
   "source": [
    "Q4. For a dataset with the following categorical variables: Color (red, green, blue), Size (small, medium, large), \n",
    "and Material (wood, metal, plastic),\n",
    "perform label encoding using Python's scikit-learn library. Show your code and explain the output.\n",
    "Ans:\n",
    "    from sklearn.preprocessing import LabelEncoder\n",
    "import pandas as pd\n",
    "\n",
    "# Sample dataset\n",
    "data = {'Color': ['red', 'green', 'blue', 'green', 'red'],\n",
    "        'Size': ['medium', 'small', 'large', 'medium', 'large'],\n",
    "        'Material': ['wood', 'metal', 'plastic', 'wood', 'metal']}\n",
    "\n",
    "df = pd.DataFrame(data)\n",
    "\n",
    "# Apply Label Encoding\n",
    "label_encoder = LabelEncoder()\n",
    "\n",
    "for column in df.columns:\n",
    "    df[column + '_encoded'] = label_encoder.fit_transform(df[column])\n",
    "\n",
    "# Display the encoded DataFrame\n",
    "print(df)\n",
    "\n",
    "output:\n",
    "       Color    Size Material  Color_encoded  Size_encoded  Material_encoded\n",
    "0    red  medium     wood              2             2                 2\n",
    "1  green   small    metal              1             0                 1\n",
    "2   blue   large  plastic              0             1                 0\n",
    "3  green  medium     wood              1             2                 2\n",
    "4    red   large    metal              2             1                 1\n"
   ]
  },
  {
   "cell_type": "code",
   "execution_count": null,
   "id": "24ae23c7-a162-46ff-9960-41f04874a3e0",
   "metadata": {},
   "outputs": [],
   "source": []
  }
 ],
 "metadata": {
  "kernelspec": {
   "display_name": "Python 3 (ipykernel)",
   "language": "python",
   "name": "python3"
  },
  "language_info": {
   "codemirror_mode": {
    "name": "ipython",
    "version": 3
   },
   "file_extension": ".py",
   "mimetype": "text/x-python",
   "name": "python",
   "nbconvert_exporter": "python",
   "pygments_lexer": "ipython3",
   "version": "3.10.8"
  }
 },
 "nbformat": 4,
 "nbformat_minor": 5
}
