{
 "cells": [
  {
   "cell_type": "code",
   "execution_count": null,
   "id": "982506d4-86f8-4e6c-91f0-3d1ee2a7fdd7",
   "metadata": {},
   "outputs": [],
   "source": [
    " Write a code to print the data present in the second row of the dataframe, df?\n",
    "Ans:\n",
    "import pandas as pd\n",
    "\n",
    "course_name = ['Data Science', 'Machine Learning', 'Big Data', 'Data Engineer']\n",
    "duration = [2, 3, 6, 4]\n",
    "\n",
    "df = pd.DataFrame(data={'course_name': course_name, 'duration': duration})\n",
    "\n",
    "# print the data present in the second row of the dataframe\n",
    "print(df.iloc[1])\n"
   ]
  },
  {
   "cell_type": "code",
   "execution_count": null,
   "id": "f4252f91-aa1e-4c64-803e-06728ee00f12",
   "metadata": {},
   "outputs": [],
   "source": [
    "What is the difference between the functions loc and iloc in pandas.DataFrame?\n",
    "Ans:\n",
    "    loc is a label-based method, which means that it is used to select data based on the labels of the rows or columns.\n",
    "    It takes two arguments: the first argument specifies the labels of the rows to select, and the second argument specifies the labels of\n",
    "    the columns to select (optional).\n",
    "    \n",
    "    iloc, on the other hand, is an integer-based method, which means that it is used to select data based on the integer indices of \n",
    "    the rows or columns. It takes two arguments: the first argument specifies the integer indices of the rows to select, and the second\n",
    "    argument specifies the integer indices of the columns to select (optional)"
   ]
  },
  {
   "cell_type": "code",
   "execution_count": 2,
   "id": "7b67c63a-fb0c-48aa-8875-ada2db2dccb9",
   "metadata": {},
   "outputs": [],
   "source": [
    "# Reindex the given dataframe using a variable, reindex = [3,0,1,2] and store it in the variable, new_df \n",
    "# then find the output for both new_df.loc[2] and new_df.iloc[2]\n",
    "import pandas as pd\n",
    "\n",
    "course_name = ['Data Science', 'Machine Learning', 'Big Data', 'Data Engineer']\n",
    "duration = [2, 3, 6, 4]\n",
    "\n",
    "df = pd.DataFrame(data={'course_name': course_name, 'duration': duration})\n",
    "\n",
    "# reindex the dataframe\n",
    "reindex = [3, 0, 1, 2]\n",
    "new_df = df.reindex(reindex)\n",
    "\n",
    "# print new_df\n",
    "print(new_df)\n",
    "\n",
    "print(new_df.loc[2])\n",
    "print(new_df.iloc[2])\n"
   ]
  },
  {
   "cell_type": "code",
   "execution_count": null,
   "id": "9a77ab16-0341-43ff-beff-44aad6e138c5",
   "metadata": {},
   "outputs": [],
   "source": [
    " Write a code to find the following statistical measurements for the above dataframe df1:\n",
    "\n",
    "(i) \tmean of each and every column present in the dataframe.\n",
    "\n",
    "(ii) standard deviation of column, ‘column_2\n",
    "\n",
    "import pandas as pd\n",
    "import numpy as np\n",
    "\n",
    "columns = ['column_1', 'column_2', 'column_3', 'column_4', 'column_5', 'column_6']\n",
    "indices = [1, 2, 3, 4, 5, 6]\n",
    "\n",
    "# Creating a dataframe\n",
    "df1 = pd.DataFrame(np.random.rand(6, 6), columns=columns, index=indices)\n",
    "\n",
    "# Find the mean of each column\n",
    "mean_cols = df1.mean()\n",
    "print(\"Mean of each column:\\n\", mean_cols)\n",
    "#Find the standard deviation of column\n",
    "std_col = df1.std()\n",
    "print(\"Standard deviation of column:\", std_col)\n",
    "\n",
    "# Find the standard deviation of column_2\n",
    "std_col2 = df1['column_2'].std()\n",
    "print(\"Standard deviation of column_2:\", std_col2)\n"
   ]
  },
  {
   "cell_type": "code",
   "execution_count": null,
   "id": "90badc9b-e840-4a18-bb01-93cefa07f41e",
   "metadata": {},
   "outputs": [],
   "source": [
    "Replace the data present in the second row of column, ‘column_2’ by a string variable then find the \n",
    "mean of column, column_2.?\n",
    "import pandas as pd\n",
    "import numpy as np\n",
    "\n",
    "columns = ['column_1', 'column_2', 'column_3', 'column_4', 'column_5', 'column_6']\n",
    "indices = [1, 2, 3, 4, 5, 6]\n",
    "\n",
    "# Creating a dataframe\n",
    "df1 = pd.DataFrame(np.random.rand(6, 6), columns=columns, index=indices)\n",
    "\n",
    "# Replace the data present in the second row of column 'column_2' with a string variable\n",
    "df1.loc[2, 'column_2'] = 'hello'\n",
    "\n",
    "# Find the mean of column 'column_2'\n",
    "mean_col2 = df1['column_2'].mean()\n",
    "print(\"Mean of column 'column_2':\", mean_col2)\n"
   ]
  },
  {
   "cell_type": "code",
   "execution_count": null,
   "id": "5f556a3e-9dd6-44a7-aae2-eb06b5dcf146",
   "metadata": {},
   "outputs": [],
   "source": [
    " What do you understand about the windows function in pandas and list the types of windows \n",
    "functions?\n",
    "Ans:\n",
    "In pandas, the term \"window\" refers to a fixed-size or variable-size moving window that slides over a set of data points in a time series\n",
    "or a dataframe. The pandas library provides a set of functions called \"window functions\" or \"rolling functions\" that can be applied on a\n",
    "window of data points to compute aggregate metrics such as mean, median, sum, standard deviation, etc. These functions are used for analyzing \n",
    "and manipulating data in time series and financial applications.\n",
    "\n",
    "The different types of window functions in pandas are:\n",
    "\n",
    "    Rolling window functions: These functions compute the aggregate metric for a fixed-size window that rolls over the data points in a time\n",
    "    series or a dataframe.\n",
    "\n",
    "    Expanding window functions: These functions compute the aggregate metric for an expanding window that includes all the data points from the\n",
    "    beginning of the time series or dataframe up to the current data point.\n",
    "\n",
    "    Exponentially weighted window functions: These functions compute the exponentially weighted moving average of the data points in a time series\n",
    "    or dataframe, where the weights are exponentially decreasing as we move further away from the current data point.\n",
    "\n",
    "    Rolling window covariance and correlation functions: These functions compute the rolling covariance and correlation between two time series \n",
    "    or columns in a dataframe for a fixed-size rolling window.\n",
    "\n",
    "    Rolling window apply functions: These functions apply a user-defined function on a fixed-size rolling window of data points in a time series \n",
    "    or a dataframe.\n",
    "\n"
   ]
  },
  {
   "cell_type": "code",
   "execution_count": 5,
   "id": "4e980c09-6d42-418d-b04f-c37e8b3b04cc",
   "metadata": {},
   "outputs": [],
   "source": [
    "# #  Write a code to print only the current month and year at the time of answering this question.\n",
    "\n",
    "import pandas as pd\n",
    "\n",
    "current_date = pd.datetime.now()\n",
    "current_month = current_date.month\n",
    "current_year = current_date.year\n",
    "\n",
    "print(\"Current month and year: {} {}\".format(current_month, current_year))"
   ]
  },
  {
   "cell_type": "code",
   "execution_count": 6,
   "id": "c5505544-9e48-45ac-887f-aab9afe6abbb",
   "metadata": {},
   "outputs": [
    {
     "name": "stdin",
     "output_type": "stream",
     "text": [
      "Enter the first date (in YYYY-MM-DD format):  2023-02-26\n",
      "Enter the second date (in YYYY-MM-DD format):  2023-02-25\n"
     ]
    },
    {
     "name": "stdout",
     "output_type": "stream",
     "text": [
      "The time difference between 2023-02-26 and 2023-02-25 is:\n",
      "- -1 days\n",
      "- 0 hours\n",
      "- 0 minutes\n"
     ]
    }
   ],
   "source": [
    "#  Write a Python program that takes in two dates as input (in the format YYYY-MM-DD) and \n",
    "# calculates the difference between them in days, hours, and minutes using Pandas time delta. The \n",
    "# program should prompt the user to enter the dates and display the result\n",
    "import pandas as pd\n",
    "\n",
    "# Prompt the user to enter the dates\n",
    "date1 = input(\"Enter the first date (in YYYY-MM-DD format): \")\n",
    "date2 = input(\"Enter the second date (in YYYY-MM-DD format): \")\n",
    "\n",
    "# Convert the input strings to datetime objects\n",
    "date1 = pd.to_datetime(date1)\n",
    "date2 = pd.to_datetime(date2)\n",
    "\n",
    "# Calculate the time difference between the two dates\n",
    "time_diff = date2 - date1\n",
    "\n",
    "# Extract the number of days, hours, and minutes from the time difference\n",
    "days_diff = time_diff.days\n",
    "hours_diff = time_diff.seconds // 3600\n",
    "minutes_diff = (time_diff.seconds % 3600) // 60\n",
    "\n",
    "# Display the result\n",
    "print(\"The time difference between\", date1.date(), \"and\", date2.date(), \"is:\")\n",
    "print(\"- {} days\".format(days_diff))\n",
    "print(\"- {} hours\".format(hours_diff))\n",
    "print(\"- {} minutes\".format(minutes_diff))\n"
   ]
  },
  {
   "cell_type": "code",
   "execution_count": null,
   "id": "11ee79dd-a8c6-4f32-93f6-1356eee257da",
   "metadata": {},
   "outputs": [],
   "source": [
    "# Write a Python program that reads a CSV file containing categorical data and converts a specified\n",
    "# column to a categorical data type. The program should prompt the user to enter the file path, column\n",
    "# name, and category order, and then display the sorted data.\n",
    "Ans:\n",
    "import pandas as pd\n",
    "\n",
    "# Prompt the user to enter the file path, column name, and category order\n",
    "file_path = input(\"Enter the file path: \")\n",
    "col_name = input(\"Enter the column name: \")\n",
    "cat_order = input(\"Enter the category order (comma-separated): \").split(',')\n",
    "\n",
    "# Read the CSV file\n",
    "df = pd.read_csv(file_path)\n",
    "\n",
    "# Convert the specified column to a categorical data type with the specified category order\n",
    "cat_dtype = pd.api.types.CategoricalDtype(categories=cat_order, ordered=True)\n",
    "df[col_name] = df[col_name].astype(cat_dtype)\n",
    "\n",
    "# Sort the data by the specified column\n",
    "sorted_df = df.sort_values(by=[col_name])\n",
    "\n",
    "# Display the sorted data\n",
    "print(sorted_df)"
   ]
  },
  {
   "cell_type": "code",
   "execution_count": null,
   "id": "efb4e0fa-c82d-41ac-9e8d-685fe8d0c8d8",
   "metadata": {},
   "outputs": [],
   "source": [
    "Write a Python program that reads a CSV file containing sales data for different products and\n",
    "visualizes the data using a stacked bar chart to show the sales of each product category over time. The\n",
    "program should prompt the user to enter the file path and display the chart.\n",
    "Ans:\n",
    "    \n",
    "import pandas as pd\n",
    "import matplotlib.pyplot as plt\n",
    "\n",
    "# Prompt the user to enter the file path\n",
    "file_path = input(\"Enter the file path: \")\n",
    "\n",
    "# Read the CSV file\n",
    "df = pd.read_csv(file_path)\n",
    "\n",
    "# Convert the date column to datetime object\n",
    "df['Date'] = pd.to_datetime(df['Date'])\n",
    "\n",
    "# Group the data by date and product category and calculate the total sales\n",
    "df_grouped = df.groupby(['Date', 'Category'])['Sales'].sum().reset_index()\n",
    "\n",
    "# Pivot the data to create a pivot table with date as the index, product categories as columns and total sales as values\n",
    "pivot_table = df_grouped.pivot(index='Date', columns='Category', values='Sales').fillna(0)\n",
    "\n",
    "# Create the stacked bar chart\n",
    "pivot_table.plot(kind='bar', stacked=True)\n",
    "\n",
    "# Set the title and axes labels\n",
    "plt.title('Sales by Category')\n",
    "plt.xlabel('Date')\n",
    "plt.ylabel('Sales')\n",
    "\n",
    "# Show the chart\n",
    "plt.show()\n"
   ]
  },
  {
   "cell_type": "code",
   "execution_count": 31,
   "id": "f665e4c6-67ce-4949-b26c-3621f27ca14a",
   "metadata": {},
   "outputs": [],
   "source": [
    "# You are given a CSV file containing student data that includes the student ID and their test score. Write\n",
    "# a Python program that reads the CSV file, calculates the mean, median, and mode of the test scores, and\n",
    "# displays the results in a table.\n",
    "\n",
    "import pandas as pd\n",
    "df = pd.read_csv('student_detail.csv')\n",
    "x = df.drop('Student ID',axis = 'columns')\n",
    "mean =x.mean()\n",
    "mode =x.mode()\n",
    "medain =x.median()"
   ]
  },
  {
   "cell_type": "code",
   "execution_count": 29,
   "id": "0eee920a-2aaf-40d8-95b6-063fbbdffd9c",
   "metadata": {},
   "outputs": [],
   "source": [
    "df1=pd.DataFrame()\n",
    "df1['mean']=mean\n",
    "df1['medain']=median\n",
    "df1['mode']=mode"
   ]
  },
  {
   "cell_type": "code",
   "execution_count": 30,
   "id": "bafec0f7-7948-4a5e-bc16-0dc2d0fbb652",
   "metadata": {},
   "outputs": [
    {
     "data": {
      "text/html": [
       "<div>\n",
       "<style scoped>\n",
       "    .dataframe tbody tr th:only-of-type {\n",
       "        vertical-align: middle;\n",
       "    }\n",
       "\n",
       "    .dataframe tbody tr th {\n",
       "        vertical-align: top;\n",
       "    }\n",
       "\n",
       "    .dataframe thead th {\n",
       "        text-align: right;\n",
       "    }\n",
       "</style>\n",
       "<table border=\"1\" class=\"dataframe\">\n",
       "  <thead>\n",
       "    <tr style=\"text-align: right;\">\n",
       "      <th></th>\n",
       "      <th>mean</th>\n",
       "      <th>medain</th>\n",
       "      <th>mode</th>\n",
       "    </tr>\n",
       "  </thead>\n",
       "  <tbody>\n",
       "    <tr>\n",
       "      <th>Test Score</th>\n",
       "      <td>83.5</td>\n",
       "      <td>85.0</td>\n",
       "      <td>NaN</td>\n",
       "    </tr>\n",
       "  </tbody>\n",
       "</table>\n",
       "</div>"
      ],
      "text/plain": [
       "            mean  medain  mode\n",
       "Test Score  83.5    85.0   NaN"
      ]
     },
     "execution_count": 30,
     "metadata": {},
     "output_type": "execute_result"
    }
   ],
   "source": [
    "df1.head()"
   ]
  }
 ],
 "metadata": {
  "kernelspec": {
   "display_name": "Python 3 (ipykernel)",
   "language": "python",
   "name": "python3"
  },
  "language_info": {
   "codemirror_mode": {
    "name": "ipython",
    "version": 3
   },
   "file_extension": ".py",
   "mimetype": "text/x-python",
   "name": "python",
   "nbconvert_exporter": "python",
   "pygments_lexer": "ipython3",
   "version": "3.10.8"
  }
 },
 "nbformat": 4,
 "nbformat_minor": 5
}
