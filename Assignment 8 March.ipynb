{
 "cells": [
  {
   "cell_type": "code",
   "execution_count": null,
   "id": "5fc50894-5446-42c8-8b34-58202af3512d",
   "metadata": {},
   "outputs": [],
   "source": [
    "What is the Probability density function?\n",
    "Ans:\n",
    "Probability density function (PDF) is a mathematical function that describes the likelihood of a random variable taking on a specific value or a \n",
    "range of values. In other words, it specifies the probability of an outcome in a continuous probability distribution.\n",
    "\n",
    "The PDF is denoted by f(x), where x is a continuous random variable, and the integral of the PDF over the entire range of x is equal to 1. The\n",
    "PDF provides a way to calculate the probability of a random variable falling within a certain range of values.\n",
    "\n",
    "The probability that a continuous random variable falls within a certain range of values is calculated by integrating the PDF over that range.\n",
    "The resulting value gives the probability of the random variable falling within that range."
   ]
  },
  {
   "cell_type": "code",
   "execution_count": null,
   "id": "3627554c-1402-4a76-9cd0-dadd791c3ddd",
   "metadata": {},
   "outputs": [],
   "source": [
    "What are the types of Probability distribution?\n",
    "Ans:\n",
    "Bernoulli distribution: A Bernoulli distribution models the probability of a single binary event, where the outcome can either be a success or a failure.\n",
    "\n",
    "Binomial distribution: A binomial distribution models the probability of a series of binary events, where the outcome can be a success or a failure,\n",
    "and the events are independent of each other.\n",
    "\n",
    "Poisson distribution: A Poisson distribution models the probability of a certain number of events occurring within a fixed interval of time, where \n",
    "the events occur randomly and independently of each other.\n",
    "\n",
    "Normal distribution: A normal distribution, also known as a Gaussian distribution, is a continuous probability distribution that is symmetric around \n",
    "its mean value. Many natural phenomena, such as the heights and weights of people, follow a normal distribution.\n",
    "\n",
    "Exponential distribution: An exponential distribution models the time between events that occur randomly and independently of each other. It is\n",
    "commonly used to model the lifetime of products or the time between arrivals of customers at a service center."
   ]
  },
  {
   "cell_type": "code",
   "execution_count": null,
   "id": "ce6e3939-54ec-4b8d-be9f-c8e503f92268",
   "metadata": {},
   "outputs": [],
   "source": [
    "Write a Python function to calculate the probability density function of a normal distribution with\n",
    "given mean and standard deviation at a given point?\n",
    "Ans:\n",
    "import math\n",
    "\n",
    "def normal_pdf(x, mean, sd):\n",
    "    exponent = -((x - mean) ** 2) / (2 * sd ** 2)\n",
    "    coefficient = 1 / (sd * math.sqrt(2 * math.pi))\n",
    "    pdf = coefficient * math.exp(exponent)\n",
    "    return pdf\n",
    "normal_pdf(1, 0, 1)\n",
    "# 0.24197072451914337"
   ]
  },
  {
   "cell_type": "code",
   "execution_count": null,
   "id": "33d70a83-f74d-4daa-b45f-777c0c840dc1",
   "metadata": {},
   "outputs": [],
   "source": [
    "What are the properties of Binomial distribution? Give two examples of events where binomial\n",
    "distribution can be applied?\n",
    "Ans:\n",
    "The Binomial distribution is a discrete probability distribution that is widely used in statistical inference and modeling. \n",
    "It has the following properties:\n",
    "\n",
    "    The binomial distribution represents the probability of a success or failure outcome in an experiment or survey that is repeated a\n",
    "    fixed number of times.\n",
    "    Each trial in the experiment is independent and has the same probability of success or failure.\n",
    "    The distribution is characterized by two parameters: n (the number of trials) and p (the probability of success in each trial).\n",
    "    The binomial distribution is symmetric when p = 0.5 and is skewed when p ≠ 0.5.\n",
    "    The mean of the binomial distribution is μ = np and the variance is σ^2 = np(1-p).\n",
    "\n",
    "Two examples of events where the binomial distribution can be applied are:\n",
    "\n",
    "    Tossing a coin: When a fair coin is tossed repeatedly, the outcome of each toss is either a head or a tail. If we consider the\n",
    "    probability of getting a head in each toss to be p, then the number of heads in n tosses follows a binomial distribution with parameters n and p.\n",
    "\n",
    "    Manufacturing defect rates: Suppose a factory produces a large number of products and the probability of a product being defective \n",
    "    is p. If we randomly select n products from the production line, the number of defective products follows a binomial distribution with\n",
    "    parameters n and p. This can be useful in quality control and process improvement efforts."
   ]
  },
  {
   "cell_type": "code",
   "execution_count": 1,
   "id": "435b6dca-2bca-4bfa-aba1-d29c25a5a9a9",
   "metadata": {},
   "outputs": [
    {
     "data": {
      "image/png": "[encoded data removed]",
      "text/plain": [
       "<Figure size 640x480 with 1 Axes>"
      ]
     },
     "metadata": {},
     "output_type": "display_data"
    }
   ],
   "source": [
    "# Generate a random sample of size 1000 from a binomial distribution with probability of success 0.4\n",
    "# and plot a histogram of the results using matplotlib?\n",
    "# Ans:\n",
    "import numpy as np\n",
    "import matplotlib.pyplot as plt\n",
    "\n",
    "# Generate a random sample of size 1000 from a binomial distribution with probability of success 0.4\n",
    "n = 1000\n",
    "p = 0.4\n",
    "sample = np.random.binomial(n, p, size=1000)\n",
    "\n",
    "# Plot a histogram of the results\n",
    "plt.hist(sample, bins=20, edgecolor='black')\n",
    "plt.xlabel('Number of successes')\n",
    "plt.ylabel('Frequency')\n",
    "plt.title('Binomial Distribution Histogram')\n",
    "plt.show()\n"
   ]
  },
  {
   "cell_type": "code",
   "execution_count": null,
   "id": "98b2d3ea-5be6-4802-980c-521eb07c4000",
   "metadata": {},
   "outputs": [],
   "source": [
    "Write a Python function to calculate the cumulative distribution function of a Poisson distribution\n",
    "with given mean at a given point?\n",
    "Ans:\n",
    "import math\n",
    "\n",
    "def poisson_cdf(x, mean):\n",
    "    cdf = 0\n",
    "    for i in range(x+1):\n",
    "        cdf += (mean ** i / math.factorial(i)) * math.exp(-mean)\n",
    "    return cdf\n"
   ]
  },
  {
   "cell_type": "code",
   "execution_count": null,
   "id": "e10c3960-50ef-4b46-ac67-22614e870f1f",
   "metadata": {},
   "outputs": [],
   "source": [
    "How Binomial distribution different from Poisson distribution?\n",
    "Ans:\n",
    "The binomial distribution and Poisson distribution are both discrete probability distributions that are commonly used in statistical analysis, \n",
    "but they differ in their underlying assumptions and the types of phenomena they model.\n",
    "\n",
    "    Definition: The binomial distribution models the number of successes in a fixed number of independent trials, where the probability of \n",
    "    success is constant for each trial. The Poisson distribution models the number of rare events occurring in a fixed time or space, where \n",
    "    the events occur independently of each other and the probability of occurrence is small.\n",
    "\n",
    "    Assumptions: The binomial distribution assumes that the trials are independent, the probability of success is constant for each trial,\n",
    "    and there are only two possible outcomes (success or failure) for each trial. The Poisson distribution assumes that the events occur \n",
    "    independently of each other and at a constant average rate.\n",
    "\n",
    "    Parameterization: The binomial distribution is parameterized by the number of trials and the probability of success in each trial, while\n",
    "    the Poisson distribution is parameterized by the average rate of occurrence of events.\n",
    "\n",
    "    Shape: The binomial distribution is a symmetric, bell-shaped distribution when the probability of success is close to 0.5 and the number\n",
    "    of trials is large. The Poisson distribution is a skewed distribution with a longer tail to the right, as the probability of occurrence \n",
    "    gets smaller and the average rate gets larger.\n",
    "\n",
    "    Range of Values: The binomial distribution can only take on integer values between 0 and the number of trials, while the Poisson distribution\n",
    "    can take on any non-negative integer value."
   ]
  },
  {
   "cell_type": "code",
   "execution_count": null,
   "id": "2ac7be3a-5a8d-4d37-917f-38a1a885e216",
   "metadata": {},
   "outputs": [],
   "source": [
    "Generate a random sample of size 1000 from a Poisson distribution with mean 5 and calculate the\n",
    "sample mean and variance?\n",
    "Ans:\n",
    "import numpy as np\n",
    "\n",
    "# Generate a random sample of size 1000 from a Poisson distribution with mean 5\n",
    "sample = np.random.poisson(5, 1000)\n",
    "\n",
    "# Calculate the sample mean and variance\n",
    "sample_mean = np.mean(sample)\n",
    "sample_variance = np.var(sample)\n",
    "\n",
    "print(\"Sample mean:\", sample_mean)\n",
    "print(\"Sample variance:\", sample_variance)\n"
   ]
  },
  {
   "cell_type": "code",
   "execution_count": null,
   "id": "cc2298e3-5bf7-413e-9055-05464c7e93ce",
   "metadata": {},
   "outputs": [],
   "source": [
    "How mean and variance are related in Binomial distribution and Poisson distribution?\n",
    "Ans:\n",
    "In a binomial distribution, the mean and variance are related by the formula:\n",
    "mean = n * p\n",
    "variance = n * p * (1 - p)\n",
    "\n",
    "In a Poisson distribution, the mean and variance are equal and are both equal to the parameter lambda."
   ]
  },
  {
   "cell_type": "code",
   "execution_count": null,
   "id": "5b80f75d-fef5-4841-8b1d-b4d03cb988e6",
   "metadata": {},
   "outputs": [],
   "source": [
    "In normal distribution with respect to mean position, where does the least frequent data appear?\n",
    "Ans:\n",
    "In a normal distribution, the least frequent data appear in the tails of the distribution, which are the areas farthest away from the mean. \n",
    "The normal distribution is a symmetric bell-shaped curve, with the mean (μ) located at the center of the curve.\n",
    "The probability density of the distribution decreases as we move away from the mean towards the tails.\n",
    "\n",
    "The normal distribution is characterized by its mean (μ) and standard deviation (σ), which determine the shape, location, and spread of the distribution.\n",
    "About 68% of the data falls within one standard deviation of the mean, about 95% falls within two standard deviations, and about 99.7% falls within \n",
    "three standard deviations.\n",
    "\n",
    "As we move further away from the mean, the probability density of the distribution decreases rapidly. The least frequent data appear in the tails of\n",
    "the distribution, which are located more than three standard deviations away from the mean. These data points are considered outliers and are very \n",
    "rare in a normal distribution"
   ]
  }
 ],
 "metadata": {
  "kernelspec": {
   "display_name": "Python 3 (ipykernel)",
   "language": "python",
   "name": "python3"
  },
  "language_info": {
   "codemirror_mode": {
    "name": "ipython",
    "version": 3
   },
   "file_extension": ".py",
   "mimetype": "text/x-python",
   "name": "python",
   "nbconvert_exporter": "python",
   "pygments_lexer": "ipython3",
   "version": "3.10.8"
  }
 },
 "nbformat": 4,
 "nbformat_minor": 5
}
