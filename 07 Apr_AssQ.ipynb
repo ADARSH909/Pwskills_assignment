{
 "cells": [
  {
   "cell_type": "code",
   "execution_count": null,
   "id": "88ad86e5-24b1-4007-bfbf-1220a7f9de71",
   "metadata": {},
   "outputs": [],
   "source": [
    "Q1. Relationship between Polynomial Functions and Kernel Functions:\n",
    "\n",
    "    In machine learning, kernel functions play a crucial role in transforming input data into higher-dimensional \n",
    "    spaces without explicitly calculating the transformed features. \n",
    "    Polynomial functions are a specific type of kernel function.\n",
    "\n",
    "    The relationship is through the kernel trick, which allows linear algorithms to operate in a higher-dimensional space implicitly. \n",
    "    The polynomial kernel is defined as K(x,x′)=(x⋅x′+c)dK(x,x′)=(x⋅x′+c)d, where dd is the degree of the polynomial, and cc is a constant.\n",
    "\n",
    "    Essentially, polynomial functions can be considered a type of kernel function, and using a polynomial kernel in machine learning \n",
    "    algorithms like Support Vector Machines (SVM) enables handling non-linear decision boundaries."
   ]
  },
  {
   "cell_type": "code",
   "execution_count": 1,
   "id": "817ded81-13e5-4e1f-8ba7-4ed2c4374074",
   "metadata": {},
   "outputs": [
    {
     "name": "stdout",
     "output_type": "stream",
     "text": [
      "Accuracy with Polynomial Kernel: 1.0\n"
     ]
    }
   ],
   "source": [
    "# Q2. Implementing SVM with a Polynomial Kernel in Python using Scikit-learn:\n",
    "from sklearn import datasets\n",
    "from sklearn.model_selection import train_test_split\n",
    "from sklearn.svm import SVC\n",
    "from sklearn.metrics import accuracy_score\n",
    "\n",
    "# Load Iris dataset\n",
    "iris = datasets.load_iris()\n",
    "X = iris.data\n",
    "y = iris.target\n",
    "\n",
    "# Split data into training and testing sets\n",
    "X_train, X_test, y_train, y_test = train_test_split(X, y, test_size=0.2, random_state=42)\n",
    "\n",
    "# Implement SVM with a polynomial kernel using Scikit-learn\n",
    "svm_poly = SVC(kernel='poly', degree=3, C=1.0)\n",
    "svm_poly.fit(X_train, y_train)\n",
    "y_pred_poly = svm_poly.predict(X_test)\n",
    "accuracy_poly = accuracy_score(y_test, y_pred_poly)\n",
    "print(\"Accuracy with Polynomial Kernel:\", accuracy_poly)\n"
   ]
  },
  {
   "cell_type": "code",
   "execution_count": null,
   "id": "0b7596e4-a452-4911-9dce-34e404d390f2",
   "metadata": {},
   "outputs": [],
   "source": [
    "3. Impact of Epsilon on the Number of Support Vectors in SVR:\n",
    "\n",
    "    In Support Vector Regression (SVR), epsilon (εε) is the margin of tolerance where no penalty is given to errors.\n",
    "\n",
    "    Increasing the value of epsilon allows more data points to fall within the margin of tolerance, leading to\n",
    "    a wider margin and potentially an increase in the number of support vectors.\n",
    "\n",
    "Q4. Impact of SVR Parameters on Performance:\n",
    "\n",
    "    Kernel Function:\n",
    "        Choice: Linear, Polynomial, Radial basis function (RBF), Sigmoid, etc.\n",
    "        Effect: Determines the mapping of data to a higher-dimensional space.\n",
    "        Example: Polynomial kernel for capturing polynomial relationships.\n",
    "\n",
    "    C Parameter:\n",
    "        Choice: Controls the trade-off between smoothness and accuracy of the model.\n",
    "        Effect: Larger values of C result in a more accurate fit to the training data but may lead to overfitting.\n",
    "        Example: Increase C when the training data has less noise.\n",
    "\n",
    "    Epsilon Parameter:\n",
    "        Choice: Margin of tolerance for errors.\n",
    "        Effect: Larger epsilon allows more data points within the margin, affecting the width of the margin.\n",
    "        Example: Increase epsilon if a wider margin is acceptable.\n",
    "\n",
    "    Gamma Parameter:\n",
    "        Choice: Influences the shape of the decision boundary.\n",
    "        Effect: Smaller values result in a more localized decision boundary, while larger values create a more complex decision boundary.\n",
    "        Example: Increase gamma for non-linear decision boundaries."
   ]
  },
  {
   "cell_type": "code",
   "execution_count": 2,
   "id": "879495af-4d66-4582-84fe-99953b985f88",
   "metadata": {},
   "outputs": [
    {
     "name": "stdout",
     "output_type": "stream",
     "text": [
      "Accuracy: 1.0\n",
      "Classification Report:\n",
      "               precision    recall  f1-score   support\n",
      "\n",
      "           0       1.00      1.00      1.00        10\n",
      "           1       1.00      1.00      1.00         9\n",
      "           2       1.00      1.00      1.00        11\n",
      "\n",
      "    accuracy                           1.00        30\n",
      "   macro avg       1.00      1.00      1.00        30\n",
      "weighted avg       1.00      1.00      1.00        30\n",
      "\n",
      "Best Hyperparameters: {'C': 0.1, 'degree': 2, 'gamma': 'scale', 'kernel': 'linear'}\n"
     ]
    },
    {
     "data": {
      "text/plain": [
       "['trained_svc_classifier.joblib']"
      ]
     },
     "execution_count": 2,
     "metadata": {},
     "output_type": "execute_result"
    }
   ],
   "source": [
    "# Import necessary libraries\n",
    "from sklearn import datasets\n",
    "from sklearn.model_selection import train_test_split, GridSearchCV\n",
    "from sklearn.preprocessing import StandardScaler\n",
    "from sklearn.svm import SVC\n",
    "from sklearn.metrics import accuracy_score, classification_report\n",
    "import joblib\n",
    "\n",
    "# Load the dataset\n",
    "iris = datasets.load_iris()\n",
    "X = iris.data\n",
    "y = iris.target\n",
    "\n",
    "# Split the dataset into training and testing sets\n",
    "X_train, X_test, y_train, y_test = train_test_split(X, y, test_size=0.2, random_state=42)\n",
    "\n",
    "# Preprocess the data - Standard Scaling\n",
    "scaler = StandardScaler()\n",
    "X_train_scaled = scaler.fit_transform(X_train)\n",
    "X_test_scaled = scaler.transform(X_test)\n",
    "\n",
    "# Create an instance of the SVC classifier and train it on the training data\n",
    "svc_classifier = SVC()\n",
    "svc_classifier.fit(X_train_scaled, y_train)\n",
    "\n",
    "# Use the trained classifier to predict the labels of the testing data\n",
    "y_pred = svc_classifier.predict(X_test_scaled)\n",
    "\n",
    "# Evaluate the performance of the classifier\n",
    "accuracy = accuracy_score(y_test, y_pred)\n",
    "classification_rep = classification_report(y_test, y_pred)\n",
    "\n",
    "print(\"Accuracy:\", accuracy)\n",
    "print(\"Classification Report:\\n\", classification_rep)\n",
    "\n",
    "# Tune the hyperparameters using GridSearchCV\n",
    "param_grid = {'C': [0.1, 1, 10], 'kernel': ['linear', 'rbf', 'poly'], 'degree': [2, 3, 4], 'gamma': ['scale', 'auto']}\n",
    "grid_search = GridSearchCV(SVC(), param_grid, cv=3)\n",
    "grid_search.fit(X_train_scaled, y_train)\n",
    "\n",
    "# Get the best parameters from the grid search\n",
    "best_params = grid_search.best_params_\n",
    "print(\"Best Hyperparameters:\", best_params)\n",
    "\n",
    "# Train the tuned classifier on the entire dataset\n",
    "best_svc_classifier = SVC(**best_params)\n",
    "best_svc_classifier.fit(X, y)\n",
    "\n",
    "# Save the trained classifier to a file for future use\n",
    "joblib.dump(best_svc_classifier, 'trained_svc_classifier.joblib')\n"
   ]
  },
  {
   "cell_type": "code",
   "execution_count": null,
   "id": "2378f1c2-7848-4ca2-a0e0-3f21822c39a6",
   "metadata": {},
   "outputs": [],
   "source": []
  }
 ],
 "metadata": {
  "kernelspec": {
   "display_name": "Python 3 (ipykernel)",
   "language": "python",
   "name": "python3"
  },
  "language_info": {
   "codemirror_mode": {
    "name": "ipython",
    "version": 3
   },
   "file_extension": ".py",
   "mimetype": "text/x-python",
   "name": "python",
   "nbconvert_exporter": "python",
   "pygments_lexer": "ipython3",
   "version": "3.10.8"
  }
 },
 "nbformat": 4,
 "nbformat_minor": 5
}
