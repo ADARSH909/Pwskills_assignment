{
 "cells": [
  {
   "cell_type": "code",
   "execution_count": 1,
   "id": "99a0bb62-b309-42d7-a978-41a32ae06494",
   "metadata": {},
   "outputs": [
    {
     "name": "stdout",
     "output_type": "stream",
     "text": [
      "0     4\n",
      "1     8\n",
      "2    15\n",
      "3    16\n",
      "4    23\n",
      "5    42\n",
      "dtype: int64\n"
     ]
    }
   ],
   "source": [
    "# Create a Pandas Series that contains the following data: 4, 8, 15, 16, 23, and 42. Then, print the series?\n",
    "\n",
    "import pandas as pd\n",
    "\n",
    "data = [4, 8, 15, 16, 23, 42]\n",
    "series = pd.Series(data)\n",
    "\n",
    "print(series)\n"
   ]
  },
  {
   "cell_type": "code",
   "execution_count": 2,
   "id": "3315bb7f-4910-4a69-8163-67023e3231ea",
   "metadata": {},
   "outputs": [
    {
     "name": "stdout",
     "output_type": "stream",
     "text": [
      "0     1\n",
      "1     2\n",
      "2     3\n",
      "3     4\n",
      "4     5\n",
      "5     6\n",
      "6     7\n",
      "7     8\n",
      "8     9\n",
      "9    10\n",
      "dtype: int64\n"
     ]
    }
   ],
   "source": [
    "# Create a variable of list type containing 10 elements in it, and apply pandas.Series function on the variable print it?\n",
    "import pandas as pd\n",
    "\n",
    "my_list = [1, 2, 3, 4, 5, 6, 7, 8, 9, 10]\n",
    "my_series = pd.Series(my_list)\n",
    "\n",
    "print(my_series)"
   ]
  },
  {
   "cell_type": "code",
   "execution_count": 3,
   "id": "7d394e07-b336-405e-9fdb-838f41c83d1f",
   "metadata": {},
   "outputs": [
    {
     "name": "stdout",
     "output_type": "stream",
     "text": [
      "      name  age  Gender\n",
      "0    Alice   25  female\n",
      "1      Bob   30    Male\n",
      "2  Charlie   27  Female\n"
     ]
    }
   ],
   "source": [
    "# Create a Pandas DataFrame that contains the following data:\n",
    "import pandas as pd\n",
    "\n",
    "data = {\n",
    "    'name': ['Alice', 'Bob', 'Charlie'],\n",
    "    'age': [25, 30, 27],\n",
    "    'Gender': ['female', 'Male', 'Female']\n",
    "}\n",
    "\n",
    "df = pd.DataFrame(data)\n",
    "\n",
    "print(df)\n"
   ]
  },
  {
   "cell_type": "code",
   "execution_count": 4,
   "id": "4f79fad1-721f-4146-926a-5bb9bc672210",
   "metadata": {},
   "outputs": [
    {
     "name": "stdout",
     "output_type": "stream",
     "text": [
      "      name  age           city\n",
      "0    Alice   25       New York\n",
      "1      Bob   32          Paris\n",
      "2  Charlie   18         London\n",
      "3    David   47  San Francisco\n",
      "4    Emily   22         Sydney\n"
     ]
    }
   ],
   "source": [
    "# What is ‘DataFrame’ in pandas and how is it different from pandas.series? Explain with an example?\n",
    "# Ans:\n",
    "# DataFrame is a 2-dimensional labeled data structure in pandas that is used for tabular data. It is a collection of Series objects,\n",
    "# where each Series represents a column of the table. A DataFrame can be thought of as a spreadsheet or a SQL table, where each column\n",
    "# can have a different data type\n",
    "\n",
    "import pandas as pd\n",
    "\n",
    "data = {\n",
    "    'name': ['Alice', 'Bob', 'Charlie', 'David', 'Emily'],\n",
    "    'age': [25, 32, 18, 47, 22],\n",
    "    'city': ['New York', 'Paris', 'London', 'San Francisco', 'Sydney']\n",
    "}\n",
    "\n",
    "df = pd.DataFrame(data)\n",
    "\n",
    "print(df)\n"
   ]
  },
  {
   "cell_type": "code",
   "execution_count": null,
   "id": "45214fd2-e34c-494a-bdff-5678068643b1",
   "metadata": {},
   "outputs": [],
   "source": [
    "What are some common functions you can use to manipulate data in a Pandas DataFrame? Can you give an example of when you might use one of these functions?\n",
    "Ans:\n",
    "    head() and tail(): These functions allow you to view the first or last n rows of a DataFrame, respectively. For example, you might use df.\n",
    "    head() to quickly inspect the first few rows of a large dataset.\n",
    "\n",
    "    describe(): This function generates a summary of statistics for each column in the DataFrame, including count, mean, standard deviation, \n",
    "    minimum, maximum, and quartiles. You might use this function to get a quick overview of the distribution of your data.\n",
    "\n",
    "    info(): This function provides information about the DataFrame, including the number of rows and columns, column names, data types, and \n",
    "    memory usage. You might use this function to check if there are any missing or unexpected values in your data.\n",
    "\n",
    "    groupby(): This function allows you to group rows of a DataFrame by one or more columns and apply a function to each group. For example,\n",
    "    you might use df.groupby('category')['value'].mean() to calculate the mean value for each category in a dataset.\n",
    "\n",
    "    sort_values(): This function allows you to sort the rows of a DataFrame by one or more columns. For example, you might use df.sort_values\n",
    "    (by='value', ascending=False) to sort a dataset by a column in descending order.\n",
    "\n",
    "    drop(): This function allows you to remove rows or columns from a DataFrame based on a specified condition. For example, you might use \n",
    "    df.drop(df[df['value'] < 0].index) to remove all rows where the value column is negative."
   ]
  },
  {
   "cell_type": "code",
   "execution_count": null,
   "id": "3adf6260-53e5-4d16-a4c9-bdb6c7bed6a2",
   "metadata": {},
   "outputs": [],
   "source": [
    "Which of the following is mutable in nature Series, DataFrame, Panel?\n",
    "Ans:\n",
    "In pandas, both Series and DataFrame are mutable in nature, meaning you can change their values, add or remove rows or columns, \n",
    "and modify their structure. However, Panel is an immutable data structure in pandas that is similar to a DataFrame, but with an\n",
    "additional dimension. It is recommended to use DataFrame instead of Panel in most cases.\n"
   ]
  },
  {
   "cell_type": "code",
   "execution_count": 5,
   "id": "24731dfe-703b-4a7f-94e3-98f456cfc6ed",
   "metadata": {},
   "outputs": [
    {
     "name": "stdout",
     "output_type": "stream",
     "text": [
      "      name  age           city\n",
      "0    Alice   25       New York\n",
      "1      Bob   32          Paris\n",
      "2  Charlie   18         London\n",
      "3    David   47  San Francisco\n",
      "4    Emily   22         Sydney\n"
     ]
    }
   ],
   "source": [
    "# Create a DataFrame using multiple Series. Explain with an example.\n",
    "import pandas as pd\n",
    "\n",
    "names = pd.Series(['Alice', 'Bob', 'Charlie', 'David', 'Emily'])\n",
    "ages = pd.Series([25, 32, 18, 47, 22])\n",
    "cities = pd.Series(['New York', 'Paris', 'London', 'San Francisco', 'Sydney'])\n",
    "\n",
    "data = {\n",
    "    'name': names,\n",
    "    'age': ages,\n",
    "    'city': cities\n",
    "}\n",
    "\n",
    "df = pd.DataFrame(data)\n",
    "\n",
    "print(df)\n"
   ]
  }
 ],
 "metadata": {
  "kernelspec": {
   "display_name": "Python 3 (ipykernel)",
   "language": "python",
   "name": "python3"
  },
  "language_info": {
   "codemirror_mode": {
    "name": "ipython",
    "version": 3
   },
   "file_extension": ".py",
   "mimetype": "text/x-python",
   "name": "python",
   "nbconvert_exporter": "python",
   "pygments_lexer": "ipython3",
   "version": "3.10.8"
  }
 },
 "nbformat": 4,
 "nbformat_minor": 5
}
