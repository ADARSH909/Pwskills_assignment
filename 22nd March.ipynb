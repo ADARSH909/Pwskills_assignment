{
 "cells": [
  {
   "cell_type": "code",
   "execution_count": null,
   "id": "afd16c7b-a1b0-4634-9971-c96dbc2ae6dd",
   "metadata": {},
   "outputs": [],
   "source": [
    "Q1. Pearson correlation coefficient is a measure of the linear relationship between two variables. Suppose\n",
    "you have collected data on the amount of time students spend studying for an exam and their final exam\n",
    "scores. Calculate the Pearson correlation coefficient between these two variables and interpret the result.\n",
    "Ans:\n",
    "    let's assume we have the following sample data for the time students spend studying (XX) and their final exam scores (YY):\n",
    "\n",
    "X=[10,15,20,25,30]X=[10,15,20,25,30]\n",
    "Y=[50,65,70,80,90]Y=[50,65,70,80,90]\n",
    "\n",
    "Now, let's calculate the Pearson correlation coefficient (rr) using the formula:\n",
    "\n",
    "r=∑(Xi−Xˉ)(Yi−Yˉ)/∑(Xi−Xˉ)2∑(Yi−Yˉ)2\n",
    "\n",
    "where XˉXˉ and YˉYˉ are the means of XX and YY.\n",
    "\n",
    "Calculations:\n",
    "Xˉ=(10+15+20+25+30)/5=20\n",
    "Yˉ=(50+65+70+80+90)5=71\n",
    "\n",
    "(Xi−Xˉ)=[−10,−5,0,5,10]\n",
    "(Yi−Yˉ)=[−21,−6,−1,9,19]\n",
    "\n",
    "∑(Xi−Xˉ)(Yi−Yˉ)=(−10×−21)+(−5×−6)+(0×−1)+(5×9)+(10×19)=825\n",
    "∑(Xi−Xˉ)2=250∑(Xi​−Xˉ)2=250\n",
    "∑(Yi−Yˉ)2=888∑(Yi​−Yˉ)2=888\n",
    "\n",
    "r=825250×888≈0.876\n",
    "r=250×888\n",
    "\n",
    "Interpretation:\n",
    "The Pearson correlation coefficient (r≈0.876r≈0.876) indicates a strong positive linear relationship between the amount of time students spend studying and their final exam scores.\n",
    "This suggests that as the time spent studying increases, the final exam scores tend to increase as well."
   ]
  },
  {
   "cell_type": "code",
   "execution_count": null,
   "id": "e187fe56-6e03-409c-8bbc-5a3d8eab8a92",
   "metadata": {},
   "outputs": [],
   "source": [
    "Q2. Spearman's rank correlation is a measure of the monotonic relationship between two variables.\n",
    "Suppose you have collected data on the amount of sleep individuals get each night and their overall job\n",
    "satisfaction level on a scale of 1 to 10. Calculate the Spearman's rank correlation between these two\n",
    "variables and interpret the result.\n",
    "Ans:\n",
    "    Suppose you collected data on the amount of sleep individuals get each night (XX) and their overall job satisfaction level (YY) on a scale of 1 to 10 for a sample of 15 individuals.\n",
    "\n",
    "Sample Data:\n",
    "X=[7,5,6,8,4]X=[7,5,6,8,4]\n",
    "Y=[9,6,8,7,5]Y=[9,6,8,7,5]\n",
    "\n",
    "from scipy.stats import spearmanr\n",
    "\n",
    "# Sample data\n",
    "X = np.array([7, 5, 6, 8, 4])\n",
    "Y = np.array([9, 6, 8, 7, 5])\n",
    "\n",
    "# Calculate Spearman's rank correlation\n",
    "correlation_coefficient, _ = spearmanr(X, Y)\n",
    "\n",
    "print(f\"Spearman's Rank Correlation: {correlation_coefficient:.3f}\")\n",
    "\n",
    "Interpretation:\n",
    "Spearman's rank correlation measures the strength and direction of the monotonic relationship between two variables. The result will be in the range of -1 to 1.\n",
    "\n",
    "    If ρ=1ρ=1, it indicates a perfect positive monotonic relationship.\n",
    "    If ρ=−1ρ=−1, it indicates a perfect negative monotonic relationship.\n",
    "    If ρ=0ρ=0, it indicates no monotonic relationship.\n"
   ]
  },
  {
   "cell_type": "code",
   "execution_count": null,
   "id": "5f0194be-7e0b-4b54-9523-3a53c282e9ee",
   "metadata": {},
   "outputs": [],
   "source": [
    "Q3. Suppose you are conducting a study to examine the relationship between the number of hours of\n",
    "exercise per week and body mass index (BMI) in a sample of adults. You collected data on both variables\n",
    "for 50 participants. Calculate the Pearson correlation coefficient and the Spearman's rank correlation\n",
    "between these two variables and compare the results.\n",
    "Ans:\n",
    "    Suppose you collected data on the number of hours of exercise per week (XX) and body mass index (BMI) (YY) for a sample of 50 participants.\n",
    "\n",
    "Sample Data:\n",
    "X=[3,4,5,2,6,...,]X=[3,4,5,2,6,...,]\n",
    "Y=[22,25,28,20,30,...,]Y=[22,25,28,20,30,...,]\n",
    "\n",
    "# Sample data\n",
    "X = np.random.randint(1, 10, 50)\n",
    "Y = np.random.uniform(18, 32, 50)\n",
    "\n",
    "# Calculate Pearson correlation coefficient\n",
    "pearson_corr, _ = pearsonr(X, Y)\n",
    "\n",
    "# Calculate Spearman's rank correlation\n",
    "spearman_corr, _ = spearmanr(X, Y)\n",
    "\n",
    "print(f\"Pearson Correlation Coefficient: {pearson_corr:.3f}\")\n",
    "print(f\"Spearman's Rank Correlation: {spearman_corr:.3f}\")\n",
    "\n",
    "Comparison:\n",
    "\n",
    "    Pearson correlation measures linear relationships. It assumes that the relationship between variables is linear.\n",
    "    Spearman's rank correlation measures monotonic relationships. It does not assume a linear relationship but looks at the general trend.\n"
   ]
  },
  {
   "cell_type": "code",
   "execution_count": null,
   "id": "55306258-58b4-42cf-8c86-04fad05b7d0b",
   "metadata": {},
   "outputs": [],
   "source": [
    "Q4. A researcher is interested in examining the relationship between the number of hours individuals\n",
    "spend watching television per day and their level of physical activity. The researcher collected data on\n",
    "both variables from a sample of 50 participants. Calculate the Pearson correlation coefficient between\n",
    "these two variables.\n",
    "Ans:\n",
    "    Suppose you collected data on the number of hours individuals spend watching television per day (XX) and their level of physical activity (YY) for a sample of 50 participants.\n",
    "\n",
    "Sample Data:\n",
    "X=[2,1,3,4,2,...,]X=[2,1,3,4,2,...,]\n",
    "Y=[30,40,20,15,25,...,]Y=[30,40,20,15,25,...,]\n",
    "\n",
    "# Sample data\n",
    "X = np.random.randint(1, 5, 50)\n",
    "Y = np.random.randint(10, 50, 50)\n",
    "\n",
    "# Calculate Pearson correlation coefficient\n",
    "correlation_coefficient, _ = pearsonr(X, Y)\n",
    "\n",
    "print(f\"Pearson Correlation Coefficient: {correlation_coefficient:.3f}\")\n",
    "\n",
    "Interpretation:\n",
    "Interpret the Pearson correlation coefficient as mentioned in Q1. If it is close to 1, it indicates a positive linear relationship between the number of hours spent watching television and the level of physical activity. If it is close to -1, it indicates a negative linear relationship. If it is close to 0, it suggests no linear relationship.\n"
   ]
  },
  {
   "cell_type": "code",
   "execution_count": null,
   "id": "57969949-10bc-4edf-ac67-01b7e5a75216",
   "metadata": {},
   "outputs": [],
   "source": [
    "Q6. A company is interested in examining the relationship between the number of sales calls made per day\n",
    "and the number of sales made per week. The company collected data on both variables from a sample of\n",
    "30 sales representatives. Calculate the Pearson correlation coefficient between these two variables.\n",
    "Ans:"
   ]
  },
  {
   "cell_type": "code",
   "execution_count": 3,
   "id": "d76fcc84-72bd-4de3-b5a5-fcdb8e69f8ae",
   "metadata": {},
   "outputs": [
    {
     "name": "stdout",
     "output_type": "stream",
     "text": [
      "Pearson Correlation Coefficient: 0.088\n"
     ]
    }
   ],
   "source": [
    "import numpy as np\n",
    "from scipy.stats import pearsonr\n",
    "\n",
    "# Sample data\n",
    "X = np.random.randint(20, 50, 30)  # Number of sales calls per day\n",
    "Y = np.random.randint(5, 20, 30)   # Number of sales per week\n",
    "\n",
    "# Calculate Pearson correlation coefficient\n",
    "correlation_coefficient, _ = pearsonr(X, Y)\n",
    "\n",
    "print(f\"Pearson Correlation Coefficient: {correlation_coefficient:.3f}\")\n"
   ]
  },
  {
   "cell_type": "code",
   "execution_count": null,
   "id": "205f0324-164a-424d-9dfe-b959789a5669",
   "metadata": {},
   "outputs": [],
   "source": []
  }
 ],
 "metadata": {
  "kernelspec": {
   "display_name": "Python 3 (ipykernel)",
   "language": "python",
   "name": "python3"
  },
  "language_info": {
   "codemirror_mode": {
    "name": "ipython",
    "version": 3
   },
   "file_extension": ".py",
   "mimetype": "text/x-python",
   "name": "python",
   "nbconvert_exporter": "python",
   "pygments_lexer": "ipython3",
   "version": "3.10.8"
  }
 },
 "nbformat": 4,
 "nbformat_minor": 5
}
